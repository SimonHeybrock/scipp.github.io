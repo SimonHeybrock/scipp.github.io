{
 "cells": [
  {
   "cell_type": "markdown",
   "metadata": {},
   "source": [
    "# Computation\n",
    "\n",
    "## General concepts and mechanisms\n",
    "\n",
    "### Overview\n",
    "\n",
    "Binary operations between data arrays or datasets behave as follows:\n",
    "\n",
    "| Property | Action |\n",
    "| --- | --- |\n",
    "| coord | compare, abort on mismatch |\n",
    "| data | apply operation |\n",
    "| mask | combine with `or` |\n",
    "| attr | typically ignored or dropped |\n",
    "\n",
    "In the special case of in-place operations such as `+=` or `*=` scipp preserves existing attributes and ignores attributes of the right-hand-side.\n",
    "\n",
    "### Dimension matching and transposing\n",
    "\n",
    "Operations \"align\" variables based on their dimension labels.\n",
    "That is, an operation between two variables that have a transposed memory layout behave correctly:"
   ]
  },
  {
   "cell_type": "code",
   "execution_count": 1,
   "metadata": {},
   "outputs": [
    {
     "data": {
      "text/html": [
       "<div><!-- Original source from -->\n",
       "<!-- https://github.com/jsignell/xarray/blob/1d960933ab252e0f79f7e050e6c9261d55568057/xarray/static/html/icons-svg-inline.html -->\n",
       "<svg style=\"position: absolute; width: 0; height: 0; overflow: hidden\">\n",
       "<defs>\n",
       "<symbol id=\"icon-database\" viewBox=\"0 0 32 32\">\n",
       "<title>Show/Hide data repr</title>\n",
       "<path d=\"M16 0c-8.837 0-16 2.239-16 5v4c0 2.761 7.163 5 16 5s16-2.239 16-5v-4c0-2.761-7.163-5-16-5z\"></path>\n",
       "<path d=\"M16 17c-8.837 0-16-2.239-16-5v6c0 2.761 7.163 5 16 5s16-2.239 16-5v-6c0 2.761-7.163 5-16 5z\"></path>\n",
       "<path d=\"M16 26c-8.837 0-16-2.239-16-5v6c0 2.761 7.163 5 16 5s16-2.239 16-5v-6c0 2.761-7.163 5-16 5z\"></path>\n",
       "</symbol>\n",
       "<symbol id=\"icon-file-text2\" viewBox=\"0 0 32 32\">\n",
       "<title>Show/Hide attributes</title>\n",
       "<path d=\"M28.681 7.159c-0.694-0.947-1.662-2.053-2.724-3.116s-2.169-2.030-3.116-2.724c-1.612-1.182-2.393-1.319-2.841-1.319h-15.5c-1.378 0-2.5 1.121-2.5 2.5v27c0 1.378 1.122 2.5 2.5 2.5h23c1.378 0 2.5-1.122 2.5-2.5v-19.5c0-0.448-0.137-1.23-1.319-2.841zM24.543 5.457c0.959 0.959 1.712 1.825 2.268 2.543h-4.811v-4.811c0.718 0.556 1.584 1.309 2.543 2.268zM28 29.5c0 0.271-0.229 0.5-0.5 0.5h-23c-0.271 0-0.5-0.229-0.5-0.5v-27c0-0.271 0.229-0.5 0.5-0.5 0 0 15.499-0 15.5 0v7c0 0.552 0.448 1 1 1h7v19.5z\"></path>\n",
       "<path d=\"M23 26h-14c-0.552 0-1-0.448-1-1s0.448-1 1-1h14c0.552 0 1 0.448 1 1s-0.448 1-1 1z\"></path>\n",
       "<path d=\"M23 22h-14c-0.552 0-1-0.448-1-1s0.448-1 1-1h14c0.552 0 1 0.448 1 1s-0.448 1-1 1z\"></path>\n",
       "<path d=\"M23 18h-14c-0.552 0-1-0.448-1-1s0.448-1 1-1h14c0.552 0 1 0.448 1 1s-0.448 1-1 1z\"></path>\n",
       "</symbol>\n",
       "</defs>\n",
       "</svg><style>/* CSS stylesheet for displaying xarray objects in jupyterlab.\n",
       "* Original source from\n",
       "* https://github.com/jsignell/xarray/blob/1d960933ab252e0f79f7e050e6c9261d55568057/xarray/static/css/style.css\n",
       "*/\n",
       "\n",
       ".xr-wrap {\n",
       "  font-size: 14px;\n",
       "  min-width: 300px;\n",
       "  max-width: 800px;\n",
       "}\n",
       "\n",
       "/* The CSS styling for the inline attributes table */\n",
       ".xr-var-attrs .xr-wrap{\n",
       "  padding-left: 3em;\n",
       "}\n",
       "\n",
       ".xr-header {\n",
       "  padding-top: 6px;\n",
       "  padding-bottom: 6px;\n",
       "  margin-bottom: 4px;\n",
       "  border-bottom: solid 1px #ddd;\n",
       "}\n",
       "\n",
       ".xr-header > div,\n",
       ".xr-header > ul {\n",
       "  display: inline;\n",
       "  margin-top: 0;\n",
       "  margin-bottom: 0;\n",
       "}\n",
       "\n",
       ".xr-obj-type,\n",
       ".xr-array-name {\n",
       "  margin-left: 2px;\n",
       "  margin-right: 10px;\n",
       "}\n",
       "\n",
       ".xr-obj-type {\n",
       "  color: #555;\n",
       "}\n",
       "\n",
       ".xr-array-name {\n",
       "  color: #000;\n",
       "}\n",
       "\n",
       ".xr-sections {\n",
       "  padding-left: 0 !important;\n",
       "  display: grid;\n",
       "  grid-template-columns: 150px auto auto auto 1fr 20px 20px;\n",
       "}\n",
       "\n",
       ".xr-section-item {\n",
       "  display: contents;\n",
       "}\n",
       "\n",
       ".xr-section-item input {\n",
       "  display: none;\n",
       "}\n",
       "\n",
       ".xr-section-item input + label {\n",
       "  color: #ccc;\n",
       "}\n",
       "\n",
       ".xr-section-item input:enabled + label {\n",
       "  cursor: pointer;\n",
       "  color: #555;\n",
       "}\n",
       "\n",
       ".xr-section-item input:enabled + label:hover {\n",
       "  color: #000;\n",
       "}\n",
       "\n",
       ".xr-section-summary {\n",
       "  grid-column: 1;\n",
       "  color: #555;\n",
       "  font-weight: 500;\n",
       "}\n",
       "\n",
       ".xr-section-summary > span {\n",
       "  display: inline-block;\n",
       "  padding-left: 0.5em;\n",
       "}\n",
       "\n",
       ".xr-section-summary-in:disabled + label {\n",
       "  color: #555;\n",
       "}\n",
       "\n",
       ".xr-section-summary-in + label:before {\n",
       "  display: inline-block;\n",
       "  content: '►';\n",
       "  font-size: 11px;\n",
       "  width: 15px;\n",
       "  text-align: center;\n",
       "}\n",
       "\n",
       ".xr-section-summary-in:disabled + label:before {\n",
       "  color: #ccc;\n",
       "}\n",
       "\n",
       ".xr-section-summary-in:checked + label:before {\n",
       "  content: '▼';\n",
       "}\n",
       "\n",
       ".xr-section-summary-in:checked + label > span {\n",
       "  display: none;\n",
       "}\n",
       "\n",
       ".xr-section-summary,\n",
       ".xr-section-inline-details {\n",
       "  padding-top: 4px;\n",
       "  padding-bottom: 4px;\n",
       "}\n",
       "\n",
       ".xr-section-inline-details {\n",
       "  grid-column: 2 / 5;\n",
       "}\n",
       "\n",
       ".xr-section-details {\n",
       "  display: none;\n",
       "  grid-column: 1 / -1;\n",
       "  margin-bottom: 5px;\n",
       "}\n",
       "\n",
       ".xr-section-summary-in:checked ~ .xr-section-details {\n",
       "  display: contents;\n",
       "}\n",
       "\n",
       ".xr-array-wrap {\n",
       "  grid-column: 1 / -1;\n",
       "  display: grid;\n",
       "  grid-template-columns: 20px auto;\n",
       "}\n",
       "\n",
       ".xr-array-wrap > label {\n",
       "  grid-column: 1;\n",
       "  vertical-align: top;\n",
       "}\n",
       "\n",
       ".xr-preview {\n",
       "  color: #888;\n",
       "}\n",
       "\n",
       ".xr-array-preview,\n",
       ".xr-array-data {\n",
       "  padding: 0 5px !important;\n",
       "  grid-column: 2;\n",
       "}\n",
       "\n",
       ".xr-array-data,\n",
       ".xr-array-in:checked ~ .xr-array-preview {\n",
       "  display: none;\n",
       "}\n",
       "\n",
       ".xr-array-in:checked ~ .xr-array-data,\n",
       ".xr-array-preview {\n",
       "  display: inline-block;\n",
       "}\n",
       "\n",
       ".xr-dim-list {\n",
       "  display: inline-block !important;\n",
       "  list-style: none;\n",
       "  padding: 0 !important;\n",
       "  margin: 0;\n",
       "}\n",
       "\n",
       ".xr-dim-list li {\n",
       "  display: inline-block;\n",
       "  padding: 0;\n",
       "  margin: 0!important;\n",
       "}\n",
       "\n",
       ".xr-dim-list:before {\n",
       "  content: '(';\n",
       "}\n",
       "\n",
       ".xr-dim-list:after {\n",
       "  content: ')';\n",
       "}\n",
       "\n",
       ".xr-dim-list li:not(:last-child):after {\n",
       "  content: ',';\n",
       "  padding-right: 5px;\n",
       "}\n",
       "\n",
       ".xr-has-index {\n",
       "  font-weight: bold;\n",
       "}\n",
       "\n",
       ".xr-var-list,\n",
       ".xr-var-item {\n",
       "  display: contents;\n",
       "}\n",
       "\n",
       ".xr-var-item > div,\n",
       ".xr-var-item label,\n",
       ".xr-var-item > .xr-var-name span {\n",
       "  background-color: #fcfcfc;\n",
       "  margin-bottom: 0;\n",
       "}\n",
       "\n",
       ".xr-var-item > .xr-var-name:hover span {\n",
       "  padding-right: 5px;\n",
       "}\n",
       "\n",
       ".xr-var-list > li:nth-child(odd) > div,\n",
       ".xr-var-list > li:nth-child(odd) > label,\n",
       ".xr-var-list > li:nth-child(odd) > .xr-var-name span {\n",
       "  background-color: #efefef;\n",
       "}\n",
       "\n",
       ".xr-var-name {\n",
       "  grid-column: 1;\n",
       "}\n",
       "\n",
       ".xr-var-dims {\n",
       "  grid-column: 2;\n",
       "}\n",
       "\n",
       ".xr-var-dtype {\n",
       "  grid-column: 3;\n",
       "  text-align: right;\n",
       "  color: #555;\n",
       "}\n",
       ".xr-var-unit{\n",
       "  grid-column: 4;\n",
       "  text-align: left;\n",
       "  color: #222;\n",
       "}\n",
       ".xr-value-preview {\n",
       "  grid-column: 5;\n",
       "}\n",
       ".xr-var-preview-variances{\n",
       "  text-align:right;\n",
       "}\n",
       "\n",
       ".xr-var-name,\n",
       ".xr-var-dims,\n",
       ".xr-var-dtype,\n",
       ".xr-var-unit,\n",
       ".xr-preview,\n",
       ".xr-attrs dt {\n",
       "  white-space: nowrap;\n",
       "  overflow: hidden;\n",
       "  text-overflow: ellipsis;\n",
       "  padding-right: 10px;\n",
       "}\n",
       "\n",
       ".xr-var-name:hover,\n",
       ".xr-var-dims:hover,\n",
       ".xr-var-dtype:hover,\n",
       ".xr-var-unit:hover,\n",
       ".xr-attrs dt:hover {\n",
       "  overflow: visible;\n",
       "  width: auto;\n",
       "  z-index: 1;\n",
       "}\n",
       "\n",
       ".xr-var-attrs {\n",
       "  display: block;\n",
       "}\n",
       ".xr-var-data {\n",
       "  display: none;\n",
       "}\n",
       ".xr-var-attrs,\n",
       ".xr-var-data {\n",
       "  background-color: #fff !important;\n",
       "  padding-bottom: 5px !important;\n",
       "}\n",
       "\n",
       ".xr-var-attrs-in:checked ~ .xr-var-attrs {\n",
       "  display: none;\n",
       "}\n",
       ".xr-var-data-in:checked ~ .xr-var-data {\n",
       "  display: block;\n",
       "}\n",
       "\n",
       ".xr-var-data > table {\n",
       "  float: right;\n",
       "}\n",
       "\n",
       ".xr-var-name span,\n",
       ".xr-var-data,\n",
       ".xr-attrs {\n",
       "  padding-left: 25px !important;\n",
       "}\n",
       "\n",
       ".xr-attrs,\n",
       ".xr-var-attrs,\n",
       ".xr-var-data {\n",
       "  grid-column: 1 / -1;\n",
       "}\n",
       "\n",
       "dl.xr-attrs {\n",
       "  padding: 0;\n",
       "  margin: 0;\n",
       "  display: grid;\n",
       "  grid-template-columns: 125px auto;\n",
       "}\n",
       "\n",
       ".xr-attrs dt, dd {\n",
       "  padding: 0;\n",
       "  margin: 0;\n",
       "  float: left;\n",
       "  padding-right: 10px;\n",
       "  width: auto;\n",
       "}\n",
       "\n",
       ".xr-attrs dt {\n",
       "  font-weight: normal;\n",
       "  grid-column: 1;\n",
       "}\n",
       "\n",
       ".xr-attrs dt:hover span {\n",
       "  display: inline-block;\n",
       "  background: #fff;\n",
       "  padding-right: 10px;\n",
       "}\n",
       "\n",
       ".xr-attrs dd {\n",
       "  grid-column: 2;\n",
       "  white-space: pre-wrap;\n",
       "  word-break: break-all;\n",
       "}\n",
       "\n",
       ".xr-icon-database,\n",
       ".xr-icon-file-text2 {\n",
       "  display: inline-block;\n",
       "  vertical-align: middle;\n",
       "  width: 1em;\n",
       "  height: 1.5em !important;\n",
       "  stroke-width: 0;\n",
       "  stroke: currentColor;\n",
       "  fill: currentColor;\n",
       "}\n",
       "\n",
       "/*\n",
       "Classes below are added for scipp. Where possible\n",
       "the prefix is changed to \"sc\" to make it easier to distinguish.\n",
       "*/\n",
       "label.xr-hide-icon svg{\n",
       "  opacity: 0;\n",
       "}\n",
       "\n",
       ".sc-section-header{\n",
       "  color:#555;\n",
       "  margin: auto 0;\n",
       "}\n",
       "\n",
       ".sc-section-header-text{\n",
       "  display:inline-block;\n",
       "  vertical-align: middle;\n",
       "  /* matches the margin from  xr-section-item */\n",
       "  margin-bottom: 5px;\n",
       "}\n",
       "\n",
       ".sc-var-name{\n",
       "  grid-column: 1/3;\n",
       "}\n",
       "\n",
       ".sc-var-name span{\n",
       "  padding-left: 25px;\n",
       "  padding-right:10px;\n",
       "}</style><div class='xr-wrap'><div class='xr-header'><div class='xr-obj-type'>scipp.Variable</div></div><ul class='xr-sections'><li class='xr-section-item'><ul class='xr-var-list'><li class='xr-var-item'><div class='sc-var-name'><span>(x: 2, y: 4)</span></div><div class='xr-var-dtype'>float64</div><div class='xr-var-unit'>m s^-1</div><div class='xr-value-preview xr-preview'><span><div>0.42, 0.14, ..., 0.21, 0.89</div></span><span><div>σ² = 1.01, 0.17, ..., 0.74, 9.79</div></span></div><input id='attrs-6c5b0210-606b-4b9e-9c6f-777ebcab5450' class='xr-var-attrs-in' type='checkbox' disabled><label for='attrs-6c5b0210-606b-4b9e-9c6f-777ebcab5450' class='xr-hide-icon' title='Show/Hide attributes'><svg class='icon xr-icon-file-text2'><use xlink:href='#icon-file-text2'></use></svg></label><input id='data-f6a5bc84-b28a-4240-87c7-8398e15304a4' class='xr-var-data-in' type='checkbox'><label for='data-f6a5bc84-b28a-4240-87c7-8398e15304a4' title='Show/Hide data repr'><svg class='icon xr-icon-database'><use xlink:href='#icon-database'></use></svg></label><pre class='xr-var-data'>Values:<br>array([[ 0.4201231 ,  0.14438539,  0.49299548, 10.82728823],\n",
       "       [ 0.96419514,  0.65866116,  0.21152862,  0.89248294]])<br><br>Variances:<br>                       <div>array([[ 0.4201231 ,  0.14438539,  0.49299548, 10.82728823],\n",
       "       [ 0.96419514,  0.65866116,  0.21152862,  0.89248294]])</div></pre></li></ul></li></ul></div></div>"
      ],
      "text/plain": [
       "    <scipp.Variable>          float64    [m s^-1]         (x, y)  [0.420123, 0.144385, ..., 0.211529, 0.892483]  [1.010567, 0.168984, ..., 0.735612, 9.789578]"
      ]
     },
     "execution_count": 1,
     "metadata": {},
     "output_type": "execute_result"
    }
   ],
   "source": [
    "import numpy as np\n",
    "import scipp as sc\n",
    "\n",
    "a = sc.Variable(values=np.random.rand(2, 4),\n",
    "                variances=np.random.rand(2, 4),\n",
    "                dims=['x', 'y'],\n",
    "                unit=sc.units.m)\n",
    "b = sc.Variable(values=np.random.rand(4, 2),\n",
    "                variances=np.random.rand(4, 2),\n",
    "                dims=['y', 'x'],\n",
    "                unit=sc.units.s)\n",
    "a/b"
   ]
  },
  {
   "cell_type": "markdown",
   "metadata": {},
   "source": [
    "### Propagation of uncertainties\n",
    "\n",
    "If variables have variances, operations correctly propagate uncertainties (the variances), in contrast to a naive implementation using numpy:"
   ]
  },
  {
   "cell_type": "code",
   "execution_count": 2,
   "metadata": {},
   "outputs": [
    {
     "data": {
      "text/plain": [
       "array([[ 0.4201231 ,  0.14438539,  0.49299548, 10.82728823],\n",
       "       [ 0.96419514,  0.65866116,  0.21152862,  0.89248294]])"
      ]
     },
     "execution_count": 2,
     "metadata": {},
     "output_type": "execute_result"
    }
   ],
   "source": [
    "result = a/b\n",
    "result.values"
   ]
  },
  {
   "cell_type": "code",
   "execution_count": 3,
   "metadata": {},
   "outputs": [
    {
     "data": {
      "text/plain": [
       "array([[ 0.4201231 ,  0.14438539,  0.49299548, 10.82728823],\n",
       "       [ 0.96419514,  0.65866116,  0.21152862,  0.89248294]])"
      ]
     },
     "execution_count": 3,
     "metadata": {},
     "output_type": "execute_result"
    }
   ],
   "source": [
    "a.values/np.transpose(b.values)"
   ]
  },
  {
   "cell_type": "code",
   "execution_count": 4,
   "metadata": {},
   "outputs": [
    {
     "data": {
      "text/plain": [
       "array([[1.01056705e+00, 1.68983904e-01, 1.75703456e+00, 2.79029338e+04],\n",
       "       [1.48319764e+00, 2.13830006e+00, 7.35611835e-01, 9.78957842e+00]])"
      ]
     },
     "execution_count": 4,
     "metadata": {},
     "output_type": "execute_result"
    }
   ],
   "source": [
    "result.variances"
   ]
  },
  {
   "cell_type": "code",
   "execution_count": 5,
   "metadata": {},
   "outputs": [
    {
     "data": {
      "text/plain": [
       "array([[1.30176508e+00, 7.26395405e-02, 6.91062909e-01, 5.17416814e-01],\n",
       "       [9.57829656e-02, 1.03037389e+00, 4.10002195e-01, 1.30901990e+02]])"
      ]
     },
     "execution_count": 5,
     "metadata": {},
     "output_type": "execute_result"
    }
   ],
   "source": [
    "a.variances/np.transpose(b.variances)"
   ]
  },
  {
   "cell_type": "markdown",
   "metadata": {},
   "source": [
    "The implementation assumes uncorrelated data and is otherwise based on, e.g., [Wikipedia: Propagation of uncertainty](https://en.wikipedia.org/wiki/Propagation_of_uncertainty#Example_formulae>).\n",
    "See also [Propagation of uncertainties](../python-reference/error-propagation.rst) for the concrete equations used for error propagation.\n",
    "\n",
    "### Broadcasting\n",
    "\n",
    "Missing dimensions in the operands are automatically broadcast.\n",
    "Consider:"
   ]
  },
  {
   "cell_type": "code",
   "execution_count": 6,
   "metadata": {},
   "outputs": [
    {
     "name": "stdout",
     "output_type": "stream",
     "text": [
      "[[0 1 2]\n",
      " [3 4 5]]\n"
     ]
    }
   ],
   "source": [
    "var_xy = sc.Variable(dims=['x', 'y'], values=np.arange(6).reshape((2,3)))\n",
    "print(var_xy.values)"
   ]
  },
  {
   "cell_type": "code",
   "execution_count": 7,
   "metadata": {},
   "outputs": [
    {
     "name": "stdout",
     "output_type": "stream",
     "text": [
      "[0 1 2]\n"
     ]
    }
   ],
   "source": [
    "var_y = sc.Variable(dims=['y'], values=np.arange(3))\n",
    "print(var_y.values)"
   ]
  },
  {
   "cell_type": "code",
   "execution_count": 8,
   "metadata": {},
   "outputs": [
    {
     "name": "stdout",
     "output_type": "stream",
     "text": [
      "[[0 0 0]\n",
      " [3 3 3]]\n"
     ]
    }
   ],
   "source": [
    "var_xy -= var_y\n",
    "print(var_xy.values)"
   ]
  },
  {
   "cell_type": "markdown",
   "metadata": {},
   "source": [
    "Since `var_y` did not depend on dimension `'x'` it is considered as \"constant\" along that dimension.\n",
    "That is, the *same* `var_y` values are subtracted *from all slices of dimension `'x'`* in `var_xy`.\n",
    "\n",
    "Coming back to our original variables `a` and `b`, we see that broadcasting integrates seamlessly with slicing and transposing:"
   ]
  },
  {
   "cell_type": "code",
   "execution_count": 9,
   "metadata": {},
   "outputs": [
    {
     "data": {
      "text/plain": [
       "array([[0.33428308, 0.10626499, 0.35197483, 0.59522048],\n",
       "       [0.77607305, 0.50735167, 0.10619917, 0.24692973]])"
      ]
     },
     "execution_count": 9,
     "metadata": {},
     "output_type": "execute_result"
    }
   ],
   "source": [
    "a.values"
   ]
  },
  {
   "cell_type": "code",
   "execution_count": 10,
   "metadata": {
    "scrolled": true
   },
   "outputs": [
    {
     "data": {
      "text/plain": [
       "array([[-0.44178998, -0.40108669,  0.24577565,  0.34829075],\n",
       "       [ 0.        ,  0.        ,  0.        ,  0.        ]])"
      ]
     },
     "execution_count": 10,
     "metadata": {},
     "output_type": "execute_result"
    }
   ],
   "source": [
    "a -= a['x', 1]\n",
    "a.values"
   ]
  },
  {
   "cell_type": "markdown",
   "metadata": {},
   "source": [
    "Both operands may be broadcast, creating an output with the combination of input dimensions:"
   ]
  },
  {
   "cell_type": "code",
   "execution_count": 11,
   "metadata": {},
   "outputs": [
    {
     "data": {
      "text/html": [
       "<svg width=40em viewBox=\"0 0 24 4.9\"><g><text x=\"0.0\" y=\"0.6\"                     style=\"font-size:0.48px\">                    dims=[y], shape=[4], unit=m, variances=True                    </text><g><title>variances</title><rect style=\"fill:#ffe680;fill-opacity:1;stroke:#000;stroke-width:0.05\" id=\"rect\" width=\"1\" height=\"1\" x=\"1.6\" y=\"2.3\"/> <path style=\"fill:#ffd633;stroke:#000;stroke-width:0.05;stroke-linejoin:round\" d=\"m 1.6 2.3 l 0.3 -0.3 h 1 l -0.3 0.3 z\" id=\"path1\" /> <path style=\"fill:#cdac29;stroke:#000;stroke-width:0.05;stroke-linejoin:round\" d=\"m 1.6 2.3 m 1 0 l 0.3 -0.3 v 1 l -0.3 0.3 z\" id=\"path2\" /><rect style=\"fill:#ffe680;fill-opacity:1;stroke:#000;stroke-width:0.05\" id=\"rect\" width=\"1\" height=\"1\" x=\"2.6\" y=\"2.3\"/> <path style=\"fill:#ffd633;stroke:#000;stroke-width:0.05;stroke-linejoin:round\" d=\"m 2.6 2.3 l 0.3 -0.3 h 1 l -0.3 0.3 z\" id=\"path1\" /> <path style=\"fill:#cdac29;stroke:#000;stroke-width:0.05;stroke-linejoin:round\" d=\"m 2.6 2.3 m 1 0 l 0.3 -0.3 v 1 l -0.3 0.3 z\" id=\"path2\" /><rect style=\"fill:#ffe680;fill-opacity:1;stroke:#000;stroke-width:0.05\" id=\"rect\" width=\"1\" height=\"1\" x=\"3.6\" y=\"2.3\"/> <path style=\"fill:#ffd633;stroke:#000;stroke-width:0.05;stroke-linejoin:round\" d=\"m 3.6 2.3 l 0.3 -0.3 h 1 l -0.3 0.3 z\" id=\"path1\" /> <path style=\"fill:#cdac29;stroke:#000;stroke-width:0.05;stroke-linejoin:round\" d=\"m 3.6 2.3 m 1 0 l 0.3 -0.3 v 1 l -0.3 0.3 z\" id=\"path2\" /><rect style=\"fill:#ffe680;fill-opacity:1;stroke:#000;stroke-width:0.05\" id=\"rect\" width=\"1\" height=\"1\" x=\"4.6\" y=\"2.3\"/> <path style=\"fill:#ffd633;stroke:#000;stroke-width:0.05;stroke-linejoin:round\" d=\"m 4.6 2.3 l 0.3 -0.3 h 1 l -0.3 0.3 z\" id=\"path1\" /> <path style=\"fill:#cdac29;stroke:#000;stroke-width:0.05;stroke-linejoin:round\" d=\"m 4.6 2.3 m 1 0 l 0.3 -0.3 v 1 l -0.3 0.3 z\" id=\"path2\" /></g><text x=\"3.0\" y=\"4.260000000000001\" text-anchor=\"middle\" fill=\"#444444\"                         style=\"font-size:0.36px\">y</text><g><title>values</title><rect style=\"fill:#ffe680;fill-opacity:1;stroke:#000;stroke-width:0.05\" id=\"rect\" width=\"1\" height=\"1\" x=\"1.0\" y=\"2.9\"/> <path style=\"fill:#ffd633;stroke:#000;stroke-width:0.05;stroke-linejoin:round\" d=\"m 1.0 2.9 l 0.3 -0.3 h 1 l -0.3 0.3 z\" id=\"path1\" /> <path style=\"fill:#cdac29;stroke:#000;stroke-width:0.05;stroke-linejoin:round\" d=\"m 1.0 2.9 m 1 0 l 0.3 -0.3 v 1 l -0.3 0.3 z\" id=\"path2\" /><rect style=\"fill:#ffe680;fill-opacity:1;stroke:#000;stroke-width:0.05\" id=\"rect\" width=\"1\" height=\"1\" x=\"2.0\" y=\"2.9\"/> <path style=\"fill:#ffd633;stroke:#000;stroke-width:0.05;stroke-linejoin:round\" d=\"m 2.0 2.9 l 0.3 -0.3 h 1 l -0.3 0.3 z\" id=\"path1\" /> <path style=\"fill:#cdac29;stroke:#000;stroke-width:0.05;stroke-linejoin:round\" d=\"m 2.0 2.9 m 1 0 l 0.3 -0.3 v 1 l -0.3 0.3 z\" id=\"path2\" /><rect style=\"fill:#ffe680;fill-opacity:1;stroke:#000;stroke-width:0.05\" id=\"rect\" width=\"1\" height=\"1\" x=\"3.0\" y=\"2.9\"/> <path style=\"fill:#ffd633;stroke:#000;stroke-width:0.05;stroke-linejoin:round\" d=\"m 3.0 2.9 l 0.3 -0.3 h 1 l -0.3 0.3 z\" id=\"path1\" /> <path style=\"fill:#cdac29;stroke:#000;stroke-width:0.05;stroke-linejoin:round\" d=\"m 3.0 2.9 m 1 0 l 0.3 -0.3 v 1 l -0.3 0.3 z\" id=\"path2\" /><rect style=\"fill:#ffe680;fill-opacity:1;stroke:#000;stroke-width:0.05\" id=\"rect\" width=\"1\" height=\"1\" x=\"4.0\" y=\"2.9\"/> <path style=\"fill:#ffd633;stroke:#000;stroke-width:0.05;stroke-linejoin:round\" d=\"m 4.0 2.9 l 0.3 -0.3 h 1 l -0.3 0.3 z\" id=\"path1\" /> <path style=\"fill:#cdac29;stroke:#000;stroke-width:0.05;stroke-linejoin:round\" d=\"m 4.0 2.9 m 1 0 l 0.3 -0.3 v 1 l -0.3 0.3 z\" id=\"path2\" /></g><text x=\"3.0\" y=\"4.260000000000001\" text-anchor=\"middle\" fill=\"#444444\"                         style=\"font-size:0.36px\">y</text></g></svg>"
      ],
      "text/plain": [
       "<IPython.core.display.HTML object>"
      ]
     },
     "metadata": {},
     "output_type": "display_data"
    },
    {
     "data": {
      "text/html": [
       "<svg width=40em viewBox=\"0 0 24 4.9\"><g><text x=\"0.0\" y=\"0.6\"                     style=\"font-size:0.48px\">                    dims=[x], shape=[2], unit=m, variances=True                    </text><g><title>variances</title><rect style=\"fill:#ffe680;fill-opacity:1;stroke:#000;stroke-width:0.05\" id=\"rect\" width=\"1\" height=\"1\" x=\"1.6\" y=\"2.3\"/> <path style=\"fill:#ffd633;stroke:#000;stroke-width:0.05;stroke-linejoin:round\" d=\"m 1.6 2.3 l 0.3 -0.3 h 1 l -0.3 0.3 z\" id=\"path1\" /> <path style=\"fill:#cdac29;stroke:#000;stroke-width:0.05;stroke-linejoin:round\" d=\"m 1.6 2.3 m 1 0 l 0.3 -0.3 v 1 l -0.3 0.3 z\" id=\"path2\" /><rect style=\"fill:#ffe680;fill-opacity:1;stroke:#000;stroke-width:0.05\" id=\"rect\" width=\"1\" height=\"1\" x=\"2.6\" y=\"2.3\"/> <path style=\"fill:#ffd633;stroke:#000;stroke-width:0.05;stroke-linejoin:round\" d=\"m 2.6 2.3 l 0.3 -0.3 h 1 l -0.3 0.3 z\" id=\"path1\" /> <path style=\"fill:#cdac29;stroke:#000;stroke-width:0.05;stroke-linejoin:round\" d=\"m 2.6 2.3 m 1 0 l 0.3 -0.3 v 1 l -0.3 0.3 z\" id=\"path2\" /></g><text x=\"2.0\" y=\"4.260000000000001\" text-anchor=\"middle\" fill=\"#444444\"                         style=\"font-size:0.36px\">x</text><g><title>values</title><rect style=\"fill:#ffe680;fill-opacity:1;stroke:#000;stroke-width:0.05\" id=\"rect\" width=\"1\" height=\"1\" x=\"1.0\" y=\"2.9\"/> <path style=\"fill:#ffd633;stroke:#000;stroke-width:0.05;stroke-linejoin:round\" d=\"m 1.0 2.9 l 0.3 -0.3 h 1 l -0.3 0.3 z\" id=\"path1\" /> <path style=\"fill:#cdac29;stroke:#000;stroke-width:0.05;stroke-linejoin:round\" d=\"m 1.0 2.9 m 1 0 l 0.3 -0.3 v 1 l -0.3 0.3 z\" id=\"path2\" /><rect style=\"fill:#ffe680;fill-opacity:1;stroke:#000;stroke-width:0.05\" id=\"rect\" width=\"1\" height=\"1\" x=\"2.0\" y=\"2.9\"/> <path style=\"fill:#ffd633;stroke:#000;stroke-width:0.05;stroke-linejoin:round\" d=\"m 2.0 2.9 l 0.3 -0.3 h 1 l -0.3 0.3 z\" id=\"path1\" /> <path style=\"fill:#cdac29;stroke:#000;stroke-width:0.05;stroke-linejoin:round\" d=\"m 2.0 2.9 m 1 0 l 0.3 -0.3 v 1 l -0.3 0.3 z\" id=\"path2\" /></g><text x=\"2.0\" y=\"4.260000000000001\" text-anchor=\"middle\" fill=\"#444444\"                         style=\"font-size:0.36px\">x</text></g></svg>"
      ],
      "text/plain": [
       "<IPython.core.display.HTML object>"
      ]
     },
     "metadata": {},
     "output_type": "display_data"
    },
    {
     "data": {
      "text/html": [
       "<svg width=40em viewBox=\"0 0 24 7.9\"><g><text x=\"0.0\" y=\"0.6\"                     style=\"font-size:0.48px\">                    dims=[y, x], shape=[4, 2], unit=m, variances=True                    </text><g><title>variances</title><rect style=\"fill:#ffe680;fill-opacity:1;stroke:#000;stroke-width:0.05\" id=\"rect\" width=\"1\" height=\"1\" x=\"1.6\" y=\"5.3\"/> <path style=\"fill:#ffd633;stroke:#000;stroke-width:0.05;stroke-linejoin:round\" d=\"m 1.6 5.3 l 0.3 -0.3 h 1 l -0.3 0.3 z\" id=\"path1\" /> <path style=\"fill:#cdac29;stroke:#000;stroke-width:0.05;stroke-linejoin:round\" d=\"m 1.6 5.3 m 1 0 l 0.3 -0.3 v 1 l -0.3 0.3 z\" id=\"path2\" /><rect style=\"fill:#ffe680;fill-opacity:1;stroke:#000;stroke-width:0.05\" id=\"rect\" width=\"1\" height=\"1\" x=\"2.6\" y=\"5.3\"/> <path style=\"fill:#ffd633;stroke:#000;stroke-width:0.05;stroke-linejoin:round\" d=\"m 2.6 5.3 l 0.3 -0.3 h 1 l -0.3 0.3 z\" id=\"path1\" /> <path style=\"fill:#cdac29;stroke:#000;stroke-width:0.05;stroke-linejoin:round\" d=\"m 2.6 5.3 m 1 0 l 0.3 -0.3 v 1 l -0.3 0.3 z\" id=\"path2\" /><rect style=\"fill:#ffe680;fill-opacity:1;stroke:#000;stroke-width:0.05\" id=\"rect\" width=\"1\" height=\"1\" x=\"1.6\" y=\"4.3\"/> <path style=\"fill:#ffd633;stroke:#000;stroke-width:0.05;stroke-linejoin:round\" d=\"m 1.6 4.3 l 0.3 -0.3 h 1 l -0.3 0.3 z\" id=\"path1\" /> <path style=\"fill:#cdac29;stroke:#000;stroke-width:0.05;stroke-linejoin:round\" d=\"m 1.6 4.3 m 1 0 l 0.3 -0.3 v 1 l -0.3 0.3 z\" id=\"path2\" /><rect style=\"fill:#ffe680;fill-opacity:1;stroke:#000;stroke-width:0.05\" id=\"rect\" width=\"1\" height=\"1\" x=\"2.6\" y=\"4.3\"/> <path style=\"fill:#ffd633;stroke:#000;stroke-width:0.05;stroke-linejoin:round\" d=\"m 2.6 4.3 l 0.3 -0.3 h 1 l -0.3 0.3 z\" id=\"path1\" /> <path style=\"fill:#cdac29;stroke:#000;stroke-width:0.05;stroke-linejoin:round\" d=\"m 2.6 4.3 m 1 0 l 0.3 -0.3 v 1 l -0.3 0.3 z\" id=\"path2\" /><rect style=\"fill:#ffe680;fill-opacity:1;stroke:#000;stroke-width:0.05\" id=\"rect\" width=\"1\" height=\"1\" x=\"1.6\" y=\"3.3\"/> <path style=\"fill:#ffd633;stroke:#000;stroke-width:0.05;stroke-linejoin:round\" d=\"m 1.6 3.3 l 0.3 -0.3 h 1 l -0.3 0.3 z\" id=\"path1\" /> <path style=\"fill:#cdac29;stroke:#000;stroke-width:0.05;stroke-linejoin:round\" d=\"m 1.6 3.3 m 1 0 l 0.3 -0.3 v 1 l -0.3 0.3 z\" id=\"path2\" /><rect style=\"fill:#ffe680;fill-opacity:1;stroke:#000;stroke-width:0.05\" id=\"rect\" width=\"1\" height=\"1\" x=\"2.6\" y=\"3.3\"/> <path style=\"fill:#ffd633;stroke:#000;stroke-width:0.05;stroke-linejoin:round\" d=\"m 2.6 3.3 l 0.3 -0.3 h 1 l -0.3 0.3 z\" id=\"path1\" /> <path style=\"fill:#cdac29;stroke:#000;stroke-width:0.05;stroke-linejoin:round\" d=\"m 2.6 3.3 m 1 0 l 0.3 -0.3 v 1 l -0.3 0.3 z\" id=\"path2\" /><rect style=\"fill:#ffe680;fill-opacity:1;stroke:#000;stroke-width:0.05\" id=\"rect\" width=\"1\" height=\"1\" x=\"1.6\" y=\"2.3\"/> <path style=\"fill:#ffd633;stroke:#000;stroke-width:0.05;stroke-linejoin:round\" d=\"m 1.6 2.3 l 0.3 -0.3 h 1 l -0.3 0.3 z\" id=\"path1\" /> <path style=\"fill:#cdac29;stroke:#000;stroke-width:0.05;stroke-linejoin:round\" d=\"m 1.6 2.3 m 1 0 l 0.3 -0.3 v 1 l -0.3 0.3 z\" id=\"path2\" /><rect style=\"fill:#ffe680;fill-opacity:1;stroke:#000;stroke-width:0.05\" id=\"rect\" width=\"1\" height=\"1\" x=\"2.6\" y=\"2.3\"/> <path style=\"fill:#ffd633;stroke:#000;stroke-width:0.05;stroke-linejoin:round\" d=\"m 2.6 2.3 l 0.3 -0.3 h 1 l -0.3 0.3 z\" id=\"path1\" /> <path style=\"fill:#cdac29;stroke:#000;stroke-width:0.05;stroke-linejoin:round\" d=\"m 2.6 2.3 m 1 0 l 0.3 -0.3 v 1 l -0.3 0.3 z\" id=\"path2\" /></g><text x=\"0.892\" y=\"4.9\" text-anchor=\"middle\"                     fill=\"#444444\" style=\"font-size:0.36px\"                     transform=\"rotate(-90, 0.892, 4.9)\">y</text><text x=\"2.0\" y=\"7.260000000000001\" text-anchor=\"middle\" fill=\"#444444\"                         style=\"font-size:0.36px\">x</text><g><title>values</title><rect style=\"fill:#ffe680;fill-opacity:1;stroke:#000;stroke-width:0.05\" id=\"rect\" width=\"1\" height=\"1\" x=\"1.0\" y=\"5.9\"/> <path style=\"fill:#ffd633;stroke:#000;stroke-width:0.05;stroke-linejoin:round\" d=\"m 1.0 5.9 l 0.3 -0.3 h 1 l -0.3 0.3 z\" id=\"path1\" /> <path style=\"fill:#cdac29;stroke:#000;stroke-width:0.05;stroke-linejoin:round\" d=\"m 1.0 5.9 m 1 0 l 0.3 -0.3 v 1 l -0.3 0.3 z\" id=\"path2\" /><rect style=\"fill:#ffe680;fill-opacity:1;stroke:#000;stroke-width:0.05\" id=\"rect\" width=\"1\" height=\"1\" x=\"2.0\" y=\"5.9\"/> <path style=\"fill:#ffd633;stroke:#000;stroke-width:0.05;stroke-linejoin:round\" d=\"m 2.0 5.9 l 0.3 -0.3 h 1 l -0.3 0.3 z\" id=\"path1\" /> <path style=\"fill:#cdac29;stroke:#000;stroke-width:0.05;stroke-linejoin:round\" d=\"m 2.0 5.9 m 1 0 l 0.3 -0.3 v 1 l -0.3 0.3 z\" id=\"path2\" /><rect style=\"fill:#ffe680;fill-opacity:1;stroke:#000;stroke-width:0.05\" id=\"rect\" width=\"1\" height=\"1\" x=\"1.0\" y=\"4.9\"/> <path style=\"fill:#ffd633;stroke:#000;stroke-width:0.05;stroke-linejoin:round\" d=\"m 1.0 4.9 l 0.3 -0.3 h 1 l -0.3 0.3 z\" id=\"path1\" /> <path style=\"fill:#cdac29;stroke:#000;stroke-width:0.05;stroke-linejoin:round\" d=\"m 1.0 4.9 m 1 0 l 0.3 -0.3 v 1 l -0.3 0.3 z\" id=\"path2\" /><rect style=\"fill:#ffe680;fill-opacity:1;stroke:#000;stroke-width:0.05\" id=\"rect\" width=\"1\" height=\"1\" x=\"2.0\" y=\"4.9\"/> <path style=\"fill:#ffd633;stroke:#000;stroke-width:0.05;stroke-linejoin:round\" d=\"m 2.0 4.9 l 0.3 -0.3 h 1 l -0.3 0.3 z\" id=\"path1\" /> <path style=\"fill:#cdac29;stroke:#000;stroke-width:0.05;stroke-linejoin:round\" d=\"m 2.0 4.9 m 1 0 l 0.3 -0.3 v 1 l -0.3 0.3 z\" id=\"path2\" /><rect style=\"fill:#ffe680;fill-opacity:1;stroke:#000;stroke-width:0.05\" id=\"rect\" width=\"1\" height=\"1\" x=\"1.0\" y=\"3.9\"/> <path style=\"fill:#ffd633;stroke:#000;stroke-width:0.05;stroke-linejoin:round\" d=\"m 1.0 3.9 l 0.3 -0.3 h 1 l -0.3 0.3 z\" id=\"path1\" /> <path style=\"fill:#cdac29;stroke:#000;stroke-width:0.05;stroke-linejoin:round\" d=\"m 1.0 3.9 m 1 0 l 0.3 -0.3 v 1 l -0.3 0.3 z\" id=\"path2\" /><rect style=\"fill:#ffe680;fill-opacity:1;stroke:#000;stroke-width:0.05\" id=\"rect\" width=\"1\" height=\"1\" x=\"2.0\" y=\"3.9\"/> <path style=\"fill:#ffd633;stroke:#000;stroke-width:0.05;stroke-linejoin:round\" d=\"m 2.0 3.9 l 0.3 -0.3 h 1 l -0.3 0.3 z\" id=\"path1\" /> <path style=\"fill:#cdac29;stroke:#000;stroke-width:0.05;stroke-linejoin:round\" d=\"m 2.0 3.9 m 1 0 l 0.3 -0.3 v 1 l -0.3 0.3 z\" id=\"path2\" /><rect style=\"fill:#ffe680;fill-opacity:1;stroke:#000;stroke-width:0.05\" id=\"rect\" width=\"1\" height=\"1\" x=\"1.0\" y=\"2.9\"/> <path style=\"fill:#ffd633;stroke:#000;stroke-width:0.05;stroke-linejoin:round\" d=\"m 1.0 2.9 l 0.3 -0.3 h 1 l -0.3 0.3 z\" id=\"path1\" /> <path style=\"fill:#cdac29;stroke:#000;stroke-width:0.05;stroke-linejoin:round\" d=\"m 1.0 2.9 m 1 0 l 0.3 -0.3 v 1 l -0.3 0.3 z\" id=\"path2\" /><rect style=\"fill:#ffe680;fill-opacity:1;stroke:#000;stroke-width:0.05\" id=\"rect\" width=\"1\" height=\"1\" x=\"2.0\" y=\"2.9\"/> <path style=\"fill:#ffd633;stroke:#000;stroke-width:0.05;stroke-linejoin:round\" d=\"m 2.0 2.9 l 0.3 -0.3 h 1 l -0.3 0.3 z\" id=\"path1\" /> <path style=\"fill:#cdac29;stroke:#000;stroke-width:0.05;stroke-linejoin:round\" d=\"m 2.0 2.9 m 1 0 l 0.3 -0.3 v 1 l -0.3 0.3 z\" id=\"path2\" /></g><text x=\"0.892\" y=\"4.9\" text-anchor=\"middle\"                     fill=\"#444444\" style=\"font-size:0.36px\"                     transform=\"rotate(-90, 0.892, 4.9)\">y</text><text x=\"2.0\" y=\"7.260000000000001\" text-anchor=\"middle\" fill=\"#444444\"                         style=\"font-size:0.36px\">x</text></g></svg>"
      ],
      "text/plain": [
       "<IPython.core.display.HTML object>"
      ]
     },
     "metadata": {},
     "output_type": "display_data"
    }
   ],
   "source": [
    "sc.show(a['x', 1])\n",
    "sc.show(a['y', 1])\n",
    "sc.show(a['x', 1] + a['y', 1])"
   ]
  },
  {
   "cell_type": "markdown",
   "metadata": {},
   "source": [
    "Note that in-place operations such as `+=` will never change the shape of the left-hand-side.\n",
    "That is only the right-hand-side operation can be broadcast, and the operation fails of a broadcast of the left-hand-side would be required.\n",
    "\n",
    "### Units\n",
    "\n",
    "Units are required to be compatible:"
   ]
  },
  {
   "cell_type": "code",
   "execution_count": 12,
   "metadata": {},
   "outputs": [
    {
     "name": "stdout",
     "output_type": "stream",
     "text": [
      "Cannot add m and s.\n"
     ]
    }
   ],
   "source": [
    "try:\n",
    "    a + b\n",
    "except Exception as e:\n",
    "    print(str(e))"
   ]
  },
  {
   "cell_type": "markdown",
   "metadata": {},
   "source": [
    "### Coordinate and name matching\n",
    "\n",
    "In operations with datasets, data items are paired based on their names when applying operations to datasets.\n",
    "Operations fail if names do not match:\n",
    "\n",
    "- In-place operations such as `+=` accept a right-hand-side operand that omits items that the left-hand-side has.\n",
    "  If the right-hand-side contains items that are not in the left-hand-side the operation fails.\n",
    "- Non-in-place operations such as `+` return a new dataset with items from the intersection of the inputs.\n",
    "\n",
    "Coords are compared in operations with datasets or data arrays (or items of datasets).\n",
    "Operations fail if there is any mismatch in coord or label values."
   ]
  },
  {
   "cell_type": "code",
   "execution_count": 13,
   "metadata": {},
   "outputs": [],
   "source": [
    "d1 = sc.Dataset(\n",
    "    {'a': sc.Variable(dims=['x', 'y'], values=np.random.rand(2, 3)),\n",
    "     'b': sc.Variable(dims=['y', 'x'], values=np.random.rand(3, 2)),\n",
    "     'c': sc.Variable(dims=['x'], values=np.random.rand(2)),\n",
    "     'd': sc.Variable(1.0)},\n",
    "    coords={\n",
    "        'x': sc.Variable(['x'], values=np.arange(2.0), unit=sc.units.m),\n",
    "        'y': sc.Variable(['y'], values=np.arange(3.0), unit=sc.units.m)})\n",
    "d2 = sc.Dataset(\n",
    "    {'a': sc.Variable(dims=['x', 'y'], values=np.random.rand(2, 3)),\n",
    "     'b': sc.Variable(dims=['y', 'x'], values=np.random.rand(3, 2))},\n",
    "    coords={\n",
    "        'x': sc.Variable(['x'], values=np.arange(2.0), unit=sc.units.m),\n",
    "        'y': sc.Variable(['y'], values=np.arange(3.0), unit=sc.units.m)})"
   ]
  },
  {
   "cell_type": "code",
   "execution_count": 14,
   "metadata": {},
   "outputs": [],
   "source": [
    "d1 += d2"
   ]
  },
  {
   "cell_type": "code",
   "execution_count": 15,
   "metadata": {},
   "outputs": [
    {
     "name": "stdout",
     "output_type": "stream",
     "text": [
      "Expected <scipp.Dataset>\n",
      "Dimensions: {{x, 2}, {y, 3}}\n",
      "Coordinates:\n",
      "    x                         float64    [m]              (x)  [0.000000, 1.000000]\n",
      "    y                         float64    [m]              (y)  [0.000000, 1.000000, 2.000000]\n",
      "Data:\n",
      "    a                         float64    [dimensionless]  (x, y)  [0.702142, 0.830409, ..., 0.366502, 0.807485]\n",
      "    b                         float64    [dimensionless]  (y, x)  [0.914519, 0.622650, ..., 0.196682, 0.304142]\n",
      "\n",
      " to contain d.\n"
     ]
    }
   ],
   "source": [
    "try:\n",
    "    d2 += d1\n",
    "except Exception as e:\n",
    "    print(str(e))"
   ]
  },
  {
   "cell_type": "code",
   "execution_count": 16,
   "metadata": {},
   "outputs": [
    {
     "name": "stdout",
     "output_type": "stream",
     "text": [
      "a\n",
      "b\n"
     ]
    }
   ],
   "source": [
    "d3 = d1 + d2\n",
    "for name in d3:\n",
    "    print(name)"
   ]
  },
  {
   "cell_type": "code",
   "execution_count": 17,
   "metadata": {},
   "outputs": [
    {
     "name": "stdout",
     "output_type": "stream",
     "text": [
      "Expected coords to match.\n"
     ]
    }
   ],
   "source": [
    "d3['a'] -= d3['b'] # transposing\n",
    "d3['a'] -= d3['x', 1]['b'] # broadcasting\n",
    "try:\n",
    "    d3['a'] -= d3['x', 1:2]['b'] # fail due to coordinate mismatch\n",
    "except Exception as e:\n",
    "    print(str(e))"
   ]
  },
  {
   "cell_type": "markdown",
   "metadata": {},
   "source": [
    "## Arithmetics\n",
    "\n",
    "The arithmetic operations `+`, `-`, `*`, and `/` and their in-place variants `+=`, `-=`, `*=`, and `/=` are available for variables, data arrays, and datasets.\n",
    "They can also be combined with [slicing](slicing.ipynb)."
   ]
  },
  {
   "cell_type": "markdown",
   "metadata": {},
   "source": [
    "## Trigonometrics\n",
    "\n",
    "Trigonometric functions like `sin` are supported for variables.\n",
    "Units for angles provide a safeguard and ensure correct operation when working with either degree or radian:"
   ]
  },
  {
   "cell_type": "code",
   "execution_count": 18,
   "metadata": {},
   "outputs": [
    {
     "name": "stdout",
     "output_type": "stream",
     "text": [
      "    <scipp.Variable>          float64    [dimensionless]  ()  [-0.000000]\n",
      "\n",
      "    <scipp.Variable>          float64    [dimensionless]  ()  [0.000000]\n",
      "\n",
      "Cannot add rad and deg.\n"
     ]
    }
   ],
   "source": [
    "rad = 3.141593*sc.units.rad\n",
    "deg = 180.0*sc.units.deg\n",
    "print(sc.sin(rad))\n",
    "print(sc.sin(deg))\n",
    "try:\n",
    "    rad + deg\n",
    "except Exception as e:\n",
    "    print(str(e))"
   ]
  },
  {
   "cell_type": "markdown",
   "metadata": {},
   "source": [
    "## Other\n",
    "\n",
    "See the [list of free functions](../python-reference/api.rst#free-functions) for an overview of other available operations."
   ]
  }
 ],
 "metadata": {
  "kernelspec": {
   "display_name": "Python 3",
   "language": "python",
   "name": "python3"
  },
  "language_info": {
   "codemirror_mode": {
    "name": "ipython",
    "version": 3
   },
   "file_extension": ".py",
   "mimetype": "text/x-python",
   "name": "python",
   "nbconvert_exporter": "python",
   "pygments_lexer": "ipython3",
   "version": "3.7.6"
  }
 },
 "nbformat": 4,
 "nbformat_minor": 2
}
