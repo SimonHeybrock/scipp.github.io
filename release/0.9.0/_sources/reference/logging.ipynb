{
 "cells": [
  {
   "cell_type": "markdown",
   "id": "94fac996-f1b9-4cea-ba12-1a3619f2ae27",
   "metadata": {},
   "source": [
    "# Logging\n",
    "\n",
    "It is often useful to record a log of the operations that you perform.\n",
    "Being a basic building block, scipp is generally quiet and does not produce any output except for warnings and errors.\n",
    "It does however define and configure its own logger which allows customizing how those warnings and errors are reported.\n",
    "\n",
    "The logger is an instance of [logging.Logger](https://docs.python.org/3/library/logging.html#logging.Logger) and can be configured using the [logging](https://docs.python.org/3/library/logging.html) module of the standard library."
   ]
  },
  {
   "cell_type": "code",
   "execution_count": null,
   "id": "6fe5c6cf-0260-45c0-a525-48af9905429b",
   "metadata": {},
   "outputs": [],
   "source": [
    "import scipp as sc\n",
    "logger = sc.get_logger()"
   ]
  },
  {
   "cell_type": "markdown",
   "id": "86737c96-4689-4653-87d1-9d64efaafef4",
   "metadata": {},
   "source": [
    "By default, scipp's logger outputs messages of level 'warning' and higher to `sys.stderr`.\n",
    "Log files can be set up by adding appropriate handlers to the logger."
   ]
  },
  {
   "cell_type": "code",
   "execution_count": null,
   "id": "e28e2e0b-0ebc-4b84-9cfd-0d0c85224d43",
   "metadata": {},
   "outputs": [],
   "source": [
    "logger.info('Some general information')"
   ]
  },
  {
   "cell_type": "code",
   "execution_count": null,
   "id": "110c277f-2574-480c-8249-50565a3415a2",
   "metadata": {},
   "outputs": [],
   "source": [
    "logger.warning('Be careful!')"
   ]
  },
  {
   "cell_type": "markdown",
   "id": "2e5bd9bd-d1e3-4e4d-88e8-2da1ff96b426",
   "metadata": {},
   "source": [
    "When running in Jupyter notebooks, scipp also registers a special handler with its logger which sends all messages of level 'info' and above to a widget.\n",
    "The widget can be displayed using the following.\n",
    "(Click and drag the bottom right corner to increase the size of the widget and see all messages.)"
   ]
  },
  {
   "cell_type": "code",
   "execution_count": null,
   "id": "f15ac9fe-e9d3-4be1-8768-9f24cc956ee1",
   "metadata": {},
   "outputs": [],
   "source": [
    "sc.display_logs()"
   ]
  },
  {
   "cell_type": "code",
   "execution_count": null,
   "id": "74fab397-3af7-4acc-b439-49240ebda806",
   "metadata": {},
   "outputs": [],
   "source": [
    "logger.info('Some more text that only shows up in the widget')\n",
    "logger.error('Something went wrong!')"
   ]
  },
  {
   "cell_type": "markdown",
   "id": "22ba3fe2-4473-49e5-9562-22aadb105d4d",
   "metadata": {},
   "source": [
    "Note how both logs from before and after the call to [scipp.display_logs](../generated/functions/scipp.display_logs.rst) are shown in the widget.\n",
    "\n",
    "Tip: In Jupyter lab, you can show the widget in a separate tab and keep it visible.\n",
    "To do so, right-click the widget and select 'Create New View for Output'.\n",
    "\n",
    "## Formatting scipp Objects\n",
    "\n",
    "The widget can display the HTML representation of scipp containers (`Variable`, `DataArray`, `Dataset`):"
   ]
  },
  {
   "cell_type": "code",
   "execution_count": null,
   "id": "00a75291-e431-40b2-aada-bdedb35f98c3",
   "metadata": {
    "collapsed": false,
    "jupyter": {
     "outputs_hidden": false
    },
    "pycharm": {
     "name": "#%%\n"
    }
   },
   "outputs": [],
   "source": [
    "logger.warning(sc.arange('x', 0, 5))"
   ]
  },
  {
   "cell_type": "markdown",
   "id": "c22183b0-be15-454e-bf1a-8ce04c1dbb53",
   "metadata": {},
   "source": [
    "It is also possible to embed scipp containers in strings using `%`-formatting:"
   ]
  },
  {
   "cell_type": "code",
   "execution_count": null,
   "id": "f796ac08-01e2-4fd8-b22f-e3124ec316b7",
   "metadata": {
    "collapsed": false,
    "jupyter": {
     "outputs_hidden": false
    },
    "pycharm": {
     "name": "#%%\n"
    }
   },
   "outputs": [],
   "source": [
    "logger.warning('The HTML representation of a Variable: %s', sc.arange('h', 10, 100))"
   ]
  },
  {
   "cell_type": "markdown",
   "id": "f575a862-a2e5-48c0-baf9-b01ba506f584",
   "metadata": {},
   "source": [
    "Or use `%r` to display a plain string representation:"
   ]
  },
  {
   "cell_type": "code",
   "execution_count": null,
   "id": "2a4ac578-7b9e-4882-b58f-aaa45e9fedbb",
   "metadata": {},
   "outputs": [],
   "source": [
    "logger.warning('A Variable converted to string: %r', sc.arange('r', 100, 110))"
   ]
  },
  {
   "cell_type": "markdown",
   "id": "b1884cd9",
   "metadata": {},
   "source": [
    "The stream handler and all user defined handlers behave as normal and produce the string representation of scipp objects unless endowed with a custom formatter.\n",
    "\n",
    "## Advanced Configuration\n",
    "\n",
    "Utilities for managing the logger and log widget can be found in [scipp.logging](../generated/modules/scipp.logging.rst).\n",
    "\n",
    "It is possible to connect other loggers to the same widget by adding a [scipp.logging.WidgetHandler](../generated/modules/scipp.logging.WidgetHandler.rst):"
   ]
  },
  {
   "cell_type": "code",
   "execution_count": null,
   "id": "69cd33cb",
   "metadata": {
    "collapsed": false,
    "jupyter": {
     "outputs_hidden": false
    },
    "pycharm": {
     "name": "#%%\n"
    }
   },
   "outputs": [],
   "source": [
    "import logging\n",
    "my_logger = logging.getLogger('my_logger')\n",
    "my_logger.setLevel(logging.INFO)\n",
    "my_logger.addHandler(sc.logging.WidgetHandler(logging.INFO,\n",
    "                                              sc.logging.get_log_widget()))"
   ]
  },
  {
   "cell_type": "code",
   "execution_count": null,
   "id": "54a82daf-95a6-4435-840c-79be6b0c0417",
   "metadata": {},
   "outputs": [],
   "source": [
    "my_logger.info('My own logger can also send messages to the widget.')"
   ]
  }
 ],
 "metadata": {
  "kernelspec": {
   "display_name": "Python 3 (ipykernel)",
   "language": "python",
   "name": "python3"
  },
  "language_info": {
   "codemirror_mode": {
    "name": "ipython",
    "version": 3
   },
   "file_extension": ".py",
   "mimetype": "text/x-python",
   "name": "python",
   "nbconvert_exporter": "python",
   "pygments_lexer": "ipython3",
   "version": "3.9.7"
  }
 },
 "nbformat": 4,
 "nbformat_minor": 5
}