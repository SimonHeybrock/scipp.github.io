{
 "cells": [
  {
   "cell_type": "markdown",
   "metadata": {},
   "source": [
    "# Neutron Data Quick Start\n",
    "\n",
    "In this tutorial demonstrates how neutron-scattering data can be loaded, visualized, and manipulated with generic functionality from `scipp` as well as neutron-specific functionality from `scipp.neutron`."
   ]
  },
  {
   "cell_type": "code",
   "execution_count": null,
   "metadata": {},
   "outputs": [],
   "source": [
    "import numpy as np\n",
    "import scipp as sc\n",
    "from scipp.plot import plot"
   ]
  },
  {
   "cell_type": "markdown",
   "metadata": {},
   "source": [
    "### Loading Nexus files\n",
    "\n",
    "Loading Nexus files requires Mantid.\n",
    "See, e.g., [Installation](https://scipp.github.io/getting-started/installation.html) on how to install scipp and mantid with conda.\n",
    "We are using two files in this tutorial,\n",
    "[PG3_4844_event.nxs](http://198.74.56.37/ftp/external-data/MD5/d5ae38871d0a09a28ae01f85d969de1e)\n",
    "and\n",
    "[PG3_4866_event.nxs](http://198.74.56.37/ftp/external-data/MD5/3d543bc6a646e622b3f4542bc3435e7e).\n",
    "Both are available as part of Mantid's test data.\n",
    "\n",
    "We start by loading two files and insert them into a dataset."
   ]
  },
  {
   "cell_type": "code",
   "execution_count": null,
   "metadata": {},
   "outputs": [],
   "source": [
    "events = sc.Dataset()\n",
    "events['sample'] = sc.neutron.load(filename='PG3_4844_event.nxs',\n",
    "                                   load_pulse_times=False,\n",
    "                                   mantid_args={'LoadMonitors': True})\n",
    "events['vanadium'] = sc.neutron.load(filename='PG3_4866_event.nxs',\n",
    "                                     load_pulse_times=False)"
   ]
  },
  {
   "cell_type": "markdown",
   "metadata": {},
   "source": [
    "The optional `mantid_args` dict is forwarded to the Mantid algorithm used for loading the files &ndash; in this case [LoadEventNexus](https://docs.mantidproject.org/nightly/algorithms/LoadEventNexus-v1.html) &ndash; and can be used to control, e.g., which part of a file to load.\n",
    "Here we request loading monitors, which Mantid does not load by default.\n",
    "The resulting dataset looks as follows:"
   ]
  },
  {
   "cell_type": "code",
   "execution_count": null,
   "metadata": {},
   "outputs": [],
   "source": [
    "sc.show(events)"
   ]
  },
  {
   "cell_type": "markdown",
   "metadata": {},
   "source": [
    "### Instrument view\n",
    "\n",
    "Scipp provides a rudimentary version of the Mantid [instrument view](https://www.mantidproject.org/MantidPlot:_Instrument_View), which can be used to take a quick look at the neutron counts on the detector panels in 3D space or using various cylindrical and spherical projections"
   ]
  },
  {
   "cell_type": "code",
   "execution_count": null,
   "metadata": {},
   "outputs": [],
   "source": [
    "sc.neutron.instrument_view(events)"
   ]
  },
  {
   "cell_type": "markdown",
   "metadata": {},
   "source": [
    "### Plot against scattering angle $\\theta$ using `groupby`\n",
    "\n",
    "*This is not an essential step and can be skipped.*\n",
    "\n",
    "Plotting raw data directly yields a hard-to-interpret figure.\n",
    "We can obtain something more useful by \"binning\" the spectrum axis based on its $\\theta$ value, using the split-apply-combine approach provided by `groupby`:"
   ]
  },
  {
   "cell_type": "code",
   "execution_count": null,
   "metadata": {},
   "outputs": [],
   "source": [
    "events.coords['scattering_angle'] = sc.neutron.scattering_angle(events)\n",
    "theta_bins = sc.Variable(['scattering_angle'],\n",
    "                         unit=sc.units.rad,\n",
    "                         values=np.linspace(0.0, np.pi/2, num=2000))"
   ]
  },
  {
   "cell_type": "code",
   "execution_count": null,
   "metadata": {},
   "outputs": [],
   "source": [
    "# Note: Use `sum` instead of `flatten` when working with dense (histogrammed) data\n",
    "theta_events = sc.groupby(\n",
    "    events,\n",
    "    'scattering_angle',\n",
    "    bins=theta_bins).flatten('spectrum')"
   ]
  },
  {
   "cell_type": "code",
   "execution_count": null,
   "metadata": {},
   "outputs": [],
   "source": [
    "theta_events"
   ]
  },
  {
   "cell_type": "code",
   "execution_count": null,
   "metadata": {},
   "outputs": [],
   "source": [
    "plot(theta_events, bins=np.linspace(0.0, 17000.0, 1000))"
   ]
  },
  {
   "cell_type": "markdown",
   "metadata": {},
   "source": [
    "### Unit conversion\n",
    "\n",
    "*Note: We are back to working with `events`, not `theta_events`.*\n",
    "\n",
    "`scipp.neutron` provides means to convert between units (dimensions) related to time-of-flight.\n",
    "The loaded raw data has `Dim.Tof`, and we convert to interplanar lattice spacing (d-spacing):"
   ]
  },
  {
   "cell_type": "code",
   "execution_count": null,
   "metadata": {},
   "outputs": [],
   "source": [
    "dspacing_events = sc.neutron.convert(events, 'tof', 'd-spacing')\n",
    "dspacing_events"
   ]
  },
  {
   "cell_type": "markdown",
   "metadata": {},
   "source": [
    "### Neutron monitors\n",
    "\n",
    "*Processing after this section does not continue based on the monitor-normalized data produced here.\n",
    "This section could thus be skipped.*\n",
    "\n",
    "If available, neutron monitors are stored as attributes of a data array:"
   ]
  },
  {
   "cell_type": "code",
   "execution_count": null,
   "metadata": {},
   "outputs": [],
   "source": [
    "mon = events['sample'].attrs['monitor1'].value\n",
    "mon"
   ]
  },
  {
   "cell_type": "markdown",
   "metadata": {},
   "source": [
    "The monitor could, e.g., be used to normalize the data.\n",
    "To do so, both data and monitor need to be converted to a unit other than time-of-flight, e.g., wavelength or energy.\n",
    "We also rebin the monitor since the original binning is very fine:"
   ]
  },
  {
   "cell_type": "code",
   "execution_count": null,
   "metadata": {},
   "outputs": [],
   "source": [
    "sample = sc.neutron.convert(events['sample'], 'tof', 'wavelength')\n",
    "mon = sc.neutron.convert(mon, 'tof', 'wavelength')\n",
    "mon = sc.rebin(\n",
    "    mon,\n",
    "    'wavelength',\n",
    "    sc.Variable(['wavelength'], unit=sc.units.angstrom, values=np.linspace(0, 1, num=1000)))\n",
    "mon"
   ]
  },
  {
   "cell_type": "markdown",
   "metadata": {},
   "source": [
    "In this case the sample data is sparse (event-mode data), whereas the monitor is a histogram.\n",
    "Multiplication and division operations for such cases are supported by modifying the weights (values) for each event:"
   ]
  },
  {
   "cell_type": "code",
   "execution_count": null,
   "metadata": {},
   "outputs": [],
   "source": [
    "sample_over_mon = sample / mon\n",
    "sample_over_mon"
   ]
  },
  {
   "cell_type": "markdown",
   "metadata": {},
   "source": [
    "Finally, we can plot the sparse data with on-the-fly binning:"
   ]
  },
  {
   "cell_type": "code",
   "execution_count": null,
   "metadata": {},
   "outputs": [],
   "source": [
    "plot(sample_over_mon, bins=np.linspace(0, 1, num=1000))"
   ]
  },
  {
   "cell_type": "markdown",
   "metadata": {},
   "source": [
    "### From events to histogram\n",
    "\n",
    "*Note: We are continuing here with data that has not been normalized to the monitors.*\n",
    "\n",
    "We histogram the event data:"
   ]
  },
  {
   "cell_type": "code",
   "execution_count": null,
   "metadata": {},
   "outputs": [],
   "source": [
    "dspacing_bins = sc.Variable(\n",
    "    ['d-spacing'],\n",
    "    values=np.arange(0.3, 2.0, 0.001),\n",
    "    unit=sc.units.angstrom)\n",
    "hist = sc.histogram(dspacing_events, dspacing_bins)\n",
    "sc.show(hist['spectrum', 0:3]['d-spacing', 0:7])"
   ]
  },
  {
   "cell_type": "code",
   "execution_count": null,
   "metadata": {
    "scrolled": false
   },
   "outputs": [],
   "source": [
    "plot(hist)"
   ]
  },
  {
   "cell_type": "markdown",
   "metadata": {},
   "source": [
    "### Summing (focussing) and normalizing\n",
    "\n",
    "After conversion to `Dim.DSpacing`, generic `sum` and `/` operations can be used to \"focus\" and normalize the diffraction data to the vanadium run:"
   ]
  },
  {
   "cell_type": "code",
   "execution_count": null,
   "metadata": {},
   "outputs": [],
   "source": [
    "summed = sc.sum(hist, 'spectrum')\n",
    "plot(summed)"
   ]
  },
  {
   "cell_type": "code",
   "execution_count": null,
   "metadata": {
    "scrolled": false
   },
   "outputs": [],
   "source": [
    "normalized = summed['sample'] / summed['vanadium']\n",
    "plot(normalized)"
   ]
  },
  {
   "cell_type": "markdown",
   "metadata": {},
   "source": [
    "### Focussing with $\\theta$ dependence in event-mode\n",
    "\n",
    "Instead of focussing all data into a single spectrum, we can use `groupby` to focus each of multiple groups of spectra into a distinct output spectrum.\n",
    "Here we define groups based on a range of scattering angles &ndash; a simple $\\theta$-dependent binning.\n",
    "This also demonstrates how we can postpone histogramming until after the focussing step."
   ]
  },
  {
   "cell_type": "code",
   "execution_count": null,
   "metadata": {},
   "outputs": [],
   "source": [
    "theta = sc.Variable(['scattering_angle'],\n",
    "                    unit=sc.units.rad,\n",
    "                    values=np.linspace(0.0, np.pi/2, num=16))\n",
    "focussed = sc.groupby(\n",
    "    dspacing_events,\n",
    "    'scattering_angle',\n",
    "    bins=theta).flatten('spectrum')\n",
    "focussed = sc.histogram(focussed, dspacing_bins)\n",
    "normalized = focussed['sample'] / focussed['vanadium']"
   ]
  },
  {
   "cell_type": "code",
   "execution_count": null,
   "metadata": {},
   "outputs": [],
   "source": [
    "plot(normalized)"
   ]
  },
  {
   "cell_type": "markdown",
   "metadata": {},
   "source": [
    "As a bonus, we can use slicing and a dict-comprehension to quickly create of plot comparing the spectra for different scattering angle bins:"
   ]
  },
  {
   "cell_type": "code",
   "execution_count": null,
   "metadata": {},
   "outputs": [],
   "source": [
    "# compute centers of theta bins\n",
    "angles = normalized.coords['scattering_angle'].values\n",
    "angles = 0.5*(angles[1:] + angles[:-1])\n",
    "plot(sc.Dataset(\n",
    "    {\n",
    "        '{}'.format(angles[group]):\n",
    "        normalized['d-spacing', 300:500]['scattering_angle', group]\n",
    "        for group in range(2,6)\n",
    "    }))"
   ]
  },
  {
   "cell_type": "code",
   "execution_count": null,
   "metadata": {},
   "outputs": [],
   "source": []
  }
 ],
 "metadata": {
  "kernelspec": {
   "display_name": "Python 3",
   "language": "python",
   "name": "python3"
  },
  "language_info": {
   "codemirror_mode": {
    "name": "ipython",
    "version": 3
   },
   "file_extension": ".py",
   "mimetype": "text/x-python",
   "name": "python",
   "nbconvert_exporter": "python",
   "pygments_lexer": "ipython3",
   "version": "3.7.3"
  },
  "nbsphinx": {
   "execute": "never"
  }
 },
 "nbformat": 4,
 "nbformat_minor": 2
}
