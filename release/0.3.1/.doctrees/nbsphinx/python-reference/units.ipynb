{
 "cells": [
  {
   "cell_type": "markdown",
   "metadata": {},
   "source": [
    "# Physical units\n",
    "\n",
    "All variables in scipp have a physical unit.\n",
    "Variables are used for coordinates, labels, data, as well as attributes, i.e., all of these have a unit.\n",
    "\n",
    "When not specified explicitly the unit of a variable defaults to `scipp.units.dimensionless`, i.e., the variable is considered dimensionless.\n",
    "\n",
    "`scipp.units` provides a number of pre-defined elementary units as well as operations between units.\n",
    "This can be used to create units that do not have a pref-defined identifier:"
   ]
  },
  {
   "cell_type": "code",
   "execution_count": 1,
   "metadata": {},
   "outputs": [
    {
     "data": {
      "text/plain": [
       "m^2"
      ]
     },
     "execution_count": 1,
     "metadata": {},
     "output_type": "execute_result"
    }
   ],
   "source": [
    "import scipp as sc\n",
    "\n",
    "length = sc.units.m\n",
    "area = length * length\n",
    "area"
   ]
  },
  {
   "cell_type": "code",
   "execution_count": 2,
   "metadata": {},
   "outputs": [
    {
     "data": {
      "text/plain": [
       "m^3"
      ]
     },
     "execution_count": 2,
     "metadata": {},
     "output_type": "execute_result"
    }
   ],
   "source": [
    "volume = length * length * length\n",
    "volume"
   ]
  },
  {
   "cell_type": "code",
   "execution_count": 3,
   "metadata": {},
   "outputs": [
    {
     "data": {
      "text/plain": [
       "m s^-1"
      ]
     },
     "execution_count": 3,
     "metadata": {},
     "output_type": "execute_result"
    }
   ],
   "source": [
    "speed = length / sc.units.s\n",
    "speed"
   ]
  },
  {
   "cell_type": "markdown",
   "metadata": {},
   "source": [
    "Due to a restriction in scipp's units implementation the set of supported units is unfortunately limited at compile-time of the underlying C++ library:"
   ]
  },
  {
   "cell_type": "code",
   "execution_count": 4,
   "metadata": {},
   "outputs": [
    {
     "name": "stdout",
     "output_type": "stream",
     "text": [
      "Unsupported unit as result of division: (s) / (m^3)\n"
     ]
    }
   ],
   "source": [
    "try:\n",
    "  sc.units.s / volume\n",
    "except Exception as e:\n",
    "  print(str(e))\n"
   ]
  },
  {
   "cell_type": "markdown",
   "metadata": {},
   "source": [
    "See [Customizing Scipp](../developer/customizing.rst) on how additional units can be added."
   ]
  }
 ],
 "metadata": {
  "kernelspec": {
   "display_name": "Python 3",
   "language": "python",
   "name": "python3"
  },
  "language_info": {
   "codemirror_mode": {
    "name": "ipython",
    "version": 3
   },
   "file_extension": ".py",
   "mimetype": "text/x-python",
   "name": "python",
   "nbconvert_exporter": "python",
   "pygments_lexer": "ipython3",
   "version": "3.7.6"
  }
 },
 "nbformat": 4,
 "nbformat_minor": 2
}
